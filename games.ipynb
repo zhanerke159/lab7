{
 "cells": [
  {
   "cell_type": "code",
   "execution_count": 1,
   "metadata": {},
   "outputs": [
    {
     "name": "stdout",
     "output_type": "stream",
     "text": [
      "pygame 2.6.1 (SDL 2.28.4, Python 3.13.2)\n",
      "Hello from the pygame community. https://www.pygame.org/contribute.html\n"
     ]
    }
   ],
   "source": [
    "# 1 task\n",
    "import pygame\n",
    "from datetime import datetime\n",
    "\n",
    "pygame.init()\n",
    "pygame.display.set_caption(\"Mickey Clock\")\n",
    "\n",
    "width = 500\n",
    "height = 500\n",
    "scr =pygame.display.set_mode((width, height))\n",
    "im1 =pygame.image.load(\"clock.png\") \n",
    "im1 =pygame.transform.scale(im1, (410, 400))\n",
    "im2 =pygame.image.load(\"leftarm.png\")  \n",
    "im2 = pygame.transform.scale(im2, (35, 310))\n",
    "im3=pygame.image.load(\"rightarm.png\")  \n",
    "im3 = pygame.transform.scale(im3, (400, 310))\n",
    "\n",
    "clock= pygame.time.Clock()\n",
    "run = True\n",
    "while run:\n",
    "    scr.fill((255, 255, 255))\n",
    "    scr.blit(im1, (50, 50)) \n",
    "    now = datetime.now()\n",
    "    sec=now.second\n",
    "    min =now.minute\n",
    "    sec_angle =- (sec * 6) \n",
    "    min_angle =- (min * 6)  \n",
    "    rotated_im2 = pygame.transform.rotate(im2, sec_angle)\n",
    "    rotated_im3 = pygame.transform.rotate(im3, min_angle)\n",
    "    sec_rect = rotated_im2.get_rect(center=(250, 250))\n",
    "    min_rect = rotated_im3.get_rect(center=(250, 250))\n",
    "    scr.blit(rotated_im2, sec_rect.topleft)\n",
    "    scr.blit(rotated_im3, min_rect.topleft)\n",
    "\n",
    "    pygame.display.update()\n",
    "\n",
    "    for event in pygame.event.get():\n",
    "        if event.type == pygame.QUIT:\n",
    "            run = False\n",
    "\n",
    "    clock.tick(30) \n",
    "\n",
    "\n",
    "pygame.quit()"
   ]
  },
  {
   "cell_type": "code",
   "execution_count": 1,
   "metadata": {},
   "outputs": [
    {
     "name": "stdout",
     "output_type": "stream",
     "text": [
      "pygame 2.6.1 (SDL 2.28.4, Python 3.13.2)\n",
      "Hello from the pygame community. https://www.pygame.org/contribute.html\n"
     ]
    }
   ],
   "source": [
    "# 2 task\n",
    "import pygame\n",
    "\n",
    "\n",
    "pygame.init()\n",
    "pygame.mixer.init()\n",
    "pygame.display.set_caption(\"Music Player\")\n",
    "\n",
    "screen=pygame.display.set_mode((700,700))\n",
    "playlist = [\"song1.mp3\", \"song2.mp3\", \"song3.mp3\"]\n",
    "current_track = 0\n",
    "music_st = True  \n",
    "\n",
    "def playmusic(song_index):\n",
    "    global music_st\n",
    "    pygame.mixer.music.load(playlist[song_index]) \n",
    "    pygame.mixer.music.play() \n",
    "    music_st = False\n",
    "image=pygame.image.load(\"cat.jpg\")\n",
    "\n",
    "\n",
    "running = True\n",
    "while running:\n",
    "    screen.fill((255,255,255))\n",
    "    screen.blit(image, (10,40))\n",
    "    pygame.display.update()\n",
    "    for event in pygame.event.get():\n",
    "        if event.type == pygame.QUIT:\n",
    "            running = False  \n",
    "\n",
    "        if event.type == pygame.KEYDOWN:\n",
    "            if event.key == pygame.K_p:  \n",
    "                if music_st:\n",
    "                    playmusic(current_track) #play music\n",
    "                else:\n",
    "                    pygame.mixer.music.unpause()\n",
    "            elif event.key == pygame.K_s:  \n",
    "                pygame.mixer.music.stop() #stop music\n",
    "                music_st = True\n",
    "            elif event.key == pygame.K_n: \n",
    "                current_track = (current_track + 1) % len(playlist) #next music\n",
    "                playmusic(current_track)\n",
    "            elif event.key == pygame.K_b: \n",
    "                current_track = (current_track - 1) % len(playlist) #previous music\n",
    "                playmusic(current_track)\n",
    "\n",
    "\n",
    "pygame.quit()\n"
   ]
  },
  {
   "cell_type": "code",
   "execution_count": 2,
   "metadata": {},
   "outputs": [],
   "source": [
    "#3 task \n",
    "import pygame\n",
    "pygame.init()\n",
    "pygame.display.set_caption(\"Circle\")\n",
    "screen=pygame.display.set_mode((500,500))\n",
    "width, height = 500, 500\n",
    "pygame.display.set_mode((width, height))\n",
    "running=True\n",
    "r=25\n",
    "x=50\n",
    "y=50\n",
    "speed=20\n",
    "while running:\n",
    "    screen.fill((255,255,255))\n",
    "    pygame.draw.circle(screen, (255,0,0), (x, y), r)\n",
    "    pygame.display.update()\n",
    "    for event in pygame.event.get():\n",
    "        if event.type==pygame.QUIT:\n",
    "            running=False\n",
    "        if event.type==pygame.KEYDOWN:\n",
    "            if event.key==pygame.K_LEFT:\n",
    "                x=max(r, x-speed)\n",
    "            elif event.key==pygame.K_RIGHT:\n",
    "                x=min(500-r, x+speed)\n",
    "            elif event.key==pygame.K_UP:\n",
    "                y=max(r, y-speed)\n",
    "            elif event.key==pygame.K_DOWN:\n",
    "                y=min(500-r, y+speed)\n",
    "pygame.quit()"
   ]
  }
 ],
 "metadata": {
  "kernelspec": {
   "display_name": "Python 3",
   "language": "python",
   "name": "python3"
  },
  "language_info": {
   "codemirror_mode": {
    "name": "ipython",
    "version": 3
   },
   "file_extension": ".py",
   "mimetype": "text/x-python",
   "name": "python",
   "nbconvert_exporter": "python",
   "pygments_lexer": "ipython3",
   "version": "3.13.2"
  }
 },
 "nbformat": 4,
 "nbformat_minor": 2
}
